{
 "cells": [
  {
   "cell_type": "markdown",
   "metadata": {},
   "source": [
    "# WELCOME TO TECHNICAL TRAININGS\n",
    "\n",
    "## PANDAS LIBRARY DISCUSSION\n",
    "Pandas Series is a one-dimensional labeled array capable of holding data of any type (integer, string, float, python objects, etc.). \n",
    "\n",
    "The axis labels are collectively called index. Pandas Series is nothing but a column in an excel sheet."
   ]
  },
  {
   "cell_type": "markdown",
   "metadata": {},
   "source": [
    "## DATA SERIES"
   ]
  },
  {
   "cell_type": "markdown",
   "metadata": {},
   "source": [
    "#### Creating a series from array: In order to create a series from array, we have to import a numpy module and have to use array() function."
   ]
  },
  {
   "cell_type": "code",
   "execution_count": 52,
   "metadata": {},
   "outputs": [
    {
     "name": "stdout",
     "output_type": "stream",
     "text": [
      "0         LIKE\n",
      "1        SHARE\n",
      "2    SUBSCRIBE\n",
      "3         LIKE\n",
      "4        SHARE\n",
      "5    SUBSCRIBE\n",
      "dtype: object\n"
     ]
    }
   ],
   "source": [
    "import numpy as np\n",
    "import pandas as pd     #naame for the same thing\n",
    " \n",
    "\n",
    "data = np.array([\"LIKE\",\"SHARE\",\"SUBSCRIBE\",\"LIKE\",\"SHARE\",\"SUBSCRIBE\"])\n",
    " \n",
    "ser = pd.Series(data)\n",
    "print(ser)"
   ]
  },
  {
   "cell_type": "code",
   "execution_count": 53,
   "metadata": {},
   "outputs": [
    {
     "name": "stdout",
     "output_type": "stream",
     "text": [
      "0         KEEP\n",
      "1     LEARNING\n",
      "2         WITH\n",
      "3    TECHNICAL\n",
      "4    TRAININGS\n",
      "dtype: object\n"
     ]
    }
   ],
   "source": [
    "# USING LIST\n",
    "import pandas as pd\n",
    " \n",
    "# a simple list\n",
    "list = ['KEEP','LEARNING','WITH','TECHNICAL','TRAININGS']\n",
    "  \n",
    "# create series form a list\n",
    "ser = pd.Series(list)\n",
    "print(ser)"
   ]
  },
  {
   "cell_type": "markdown",
   "metadata": {},
   "source": [
    "## ELEMENT ACCESSING WITH DATASERIES"
   ]
  },
  {
   "cell_type": "code",
   "execution_count": 56,
   "metadata": {},
   "outputs": [
    {
     "name": "stdout",
     "output_type": "stream",
     "text": [
      "0        KEEP\n",
      "1    LEARNING\n",
      "2        WITH\n",
      "dtype: object\n"
     ]
    }
   ],
   "source": [
    "import pandas as pd\n",
    " \n",
    "\n",
    "list = ['KEEP','LEARNING','WITH','TECHNICAL','TRAININGS']\n",
    "  \n",
    "ser = pd.Series(list)\n",
    "print(ser[0:3])"
   ]
  },
  {
   "cell_type": "markdown",
   "metadata": {},
   "source": [
    "## DATA FRAME"
   ]
  },
  {
   "cell_type": "markdown",
   "metadata": {},
   "source": [
    "### \n",
    "The .loc and .iloc indexers also use the indexing operator to make selections. In this indexing operator to refer to df[ ]."
   ]
  },
  {
   "cell_type": "code",
   "execution_count": 57,
   "metadata": {},
   "outputs": [
    {
     "name": "stdout",
     "output_type": "stream",
     "text": [
      "0    NARESH\n",
      "1     SOHAM\n",
      "2     SNEHA\n",
      "3      like\n",
      "4     share\n",
      "Name: NAME, dtype: object\n"
     ]
    }
   ],
   "source": [
    "# importing pandas module  \n",
    "import pandas as pd  \n",
    "     \n",
    "# making data frame  \n",
    "df = pd.read_csv(\"Book1.csv\")  \n",
    "   \n",
    "ser = pd.Series(df['NAME']) \n",
    "data = ser.head()\n",
    "print(data)"
   ]
  },
  {
   "cell_type": "markdown",
   "metadata": {},
   "source": [
    "## ELEMENT ACCESSING"
   ]
  },
  {
   "cell_type": "code",
   "execution_count": 61,
   "metadata": {},
   "outputs": [
    {
     "name": "stdout",
     "output_type": "stream",
     "text": [
      "0    NARESH\n",
      "1     SOHAM\n",
      "2     SNEHA\n",
      "3      like\n",
      "4     share\n",
      "Name: NAME, dtype: object\n"
     ]
    }
   ],
   "source": [
    "# importing pandas module  \n",
    "import pandas as pd  \n",
    "     \n",
    "# making data frame  \n",
    "df = pd.read_csv(\"Book1.csv\")  \n",
    "   \n",
    "ser = pd.Series(df['NAME']) \n",
    "data = ser.head()\n",
    "data.iloc[0:4]\n",
    "print(data)\n"
   ]
  },
  {
   "cell_type": "code",
   "execution_count": 62,
   "metadata": {},
   "outputs": [
    {
     "name": "stdout",
     "output_type": "stream",
     "text": [
      "     Name  Positions\n",
      "0  Naresh        CEO\n",
      "1   Soham         MD\n",
      "2   Sneha   ENGINEER\n",
      "3  Aniket  ASSISTANT\n"
     ]
    }
   ],
   "source": [
    "# DATAFRAMING \n",
    "\n",
    "import pandas as pd \n",
    "\n",
    "\n",
    "data = {'Name':['Naresh', 'Soham', 'Sneha', 'Aniket'], \n",
    "\t\t'Age':[27, 24, 22, 32], \n",
    "\t\t'Address':['Mumbai', 'Chennai', 'Delhi', 'Kerala'], \n",
    "\t\t'Positions':['CEO', 'MD', 'ENGINEER', 'ASSISTANT']} \n",
    "\n",
    "\n",
    "df = pd.DataFrame(data) \n",
    "\n",
    "\n",
    "print(df[['Name', 'Positions']]) \n"
   ]
  },
  {
   "cell_type": "markdown",
   "metadata": {},
   "source": [
    "## DATA DROPOING"
   ]
  },
  {
   "cell_type": "code",
   "execution_count": 37,
   "metadata": {},
   "outputs": [
    {
     "name": "stdout",
     "output_type": "stream",
     "text": [
      "   Age  Address  Positions\n",
      "0   27   Mumbai        CEO\n",
      "1   24  Chennai         MD\n",
      "2   22    Delhi   ENGINEER\n",
      "3   32   Kerala  ASSISTANT\n"
     ]
    }
   ],
   "source": [
    "import pandas as pd \n",
    "data = {'Name':['Naresh', 'Soham', 'Sneha', 'Aniket'], \n",
    "\t\t'Age':[27, 24, 22, 32], \n",
    "\t\t'Address':['Mumbai', 'Chennai', 'Delhi', 'Kerala'], \n",
    "\t\t'Positions':['CEO', 'MD', 'ENGINEER', 'ASSISTANT']} \n",
    "df = pd.DataFrame(data) \n",
    "df.drop([\"Name\"], axis = 1, inplace = True)\n",
    "print(df)\n"
   ]
  },
  {
   "cell_type": "markdown",
   "metadata": {},
   "source": [
    "## DATA RETRIEVING BY .loc[] and .iloc[]"
   ]
  },
  {
   "cell_type": "code",
   "execution_count": 63,
   "metadata": {},
   "outputs": [
    {
     "data": {
      "text/plain": [
       "NAME       True\n",
       "ENGLISH    True\n",
       "MARATHI    True\n",
       "HINDI      True\n",
       "Name: 1, dtype: bool"
      ]
     },
     "execution_count": 63,
     "metadata": {},
     "output_type": "execute_result"
    }
   ],
   "source": [
    "\n",
    "import pandas as pd \n",
    "  \n",
    "data = pd.read_csv(\"Book1.csv\") \n",
    "  \n",
    "row1 = data.loc[1] \n",
    "\n",
    "row2 = data.iloc[1]  \n",
    "\n",
    "row1 == row2"
   ]
  },
  {
   "cell_type": "markdown",
   "metadata": {},
   "source": [
    "### With loc and iloc you can do practically any data selection operation on DataFrames you can think of. loc is label-based, which means that you have to specify rows and columns based on their row and column labels. iloc is integer index based, so you have to specify rows and columns by their integer index like you did in the previous exercise."
   ]
  },
  {
   "cell_type": "code",
   "execution_count": null,
   "metadata": {},
   "outputs": [],
   "source": []
  },
  {
   "cell_type": "code",
   "execution_count": null,
   "metadata": {},
   "outputs": [],
   "source": []
  }
 ],
 "metadata": {
  "kernelspec": {
   "display_name": "Python 3",
   "language": "python",
   "name": "python3"
  },
  "language_info": {
   "codemirror_mode": {
    "name": "ipython",
    "version": 3
   },
   "file_extension": ".py",
   "mimetype": "text/x-python",
   "name": "python",
   "nbconvert_exporter": "python",
   "pygments_lexer": "ipython3",
   "version": "3.7.4"
  }
 },
 "nbformat": 4,
 "nbformat_minor": 2
}
